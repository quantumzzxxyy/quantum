{
 "cells": [
  {
   "cell_type": "code",
   "execution_count": 244,
   "metadata": {},
   "outputs": [],
   "source": [
    "import os\n",
    "import boto3\n",
    "import re\n",
    "import copy\n",
    "import time\n",
    "from time import gmtime, strftime\n",
    "from sagemaker import get_execution_role\n",
    "\n",
    "role = get_execution_role()\n",
    "\n",
    "region = boto3.Session().region_name\n",
    "\n",
    "### http://prod1.publicdata.landregistry.gov.uk.s3-website-eu-west-1.amazonaws.com/pp-monthly-update-new-version.csv\n",
    "\n",
    "###bucket='bucket-name' # Replace with your s3 bucket name\n",
    "bucket='mutest-01' # Replace with your s3 bucket name\n",
    "prefix = 'sagemaker/xgboost-mnist' # Used as part of the path in the bucket where you store data\n",
    "bucket_path = 'https://s3-{}.amazonaws.com/{}'.format(region,bucket) # The URL to access the bucket"
   ]
  },
  {
   "cell_type": "code",
   "execution_count": 245,
   "metadata": {},
   "outputs": [
    {
     "data": {
      "text/plain": [
       "'https://s3-eu-west-1.amazonaws.com/mutest-01'"
      ]
     },
     "execution_count": 245,
     "metadata": {},
     "output_type": "execute_result"
    }
   ],
   "source": [
    "bucket_path"
   ]
  },
  {
   "cell_type": "code",
   "execution_count": 74,
   "metadata": {},
   "outputs": [
    {
     "name": "stdout",
     "output_type": "stream",
     "text": [
      "CPU times: user 14 µs, sys: 0 ns, total: 14 µs\n",
      "Wall time: 17.6 µs\n"
     ]
    }
   ],
   "source": [
    "%%time \n",
    "import pickle, gzip, urllib.request, json\n",
    "import numpy as np\n",
    "\n",
    "url = 'http://prod1.publicdata.landregistry.gov.uk.s3-website-eu-west-1.amazonaws.com/pp-monthly-update-new-version.csv'\n"
   ]
  },
  {
   "cell_type": "code",
   "execution_count": null,
   "metadata": {},
   "outputs": [],
   "source": []
  },
  {
   "cell_type": "code",
   "execution_count": 92,
   "metadata": {},
   "outputs": [],
   "source": [
    "import pandas\n",
    "result = pandas.read_csv(url, delimiter=',')"
   ]
  },
  {
   "cell_type": "code",
   "execution_count": 130,
   "metadata": {},
   "outputs": [
    {
     "data": {
      "text/html": [
       "<div>\n",
       "<style scoped>\n",
       "    .dataframe tbody tr th:only-of-type {\n",
       "        vertical-align: middle;\n",
       "    }\n",
       "\n",
       "    .dataframe tbody tr th {\n",
       "        vertical-align: top;\n",
       "    }\n",
       "\n",
       "    .dataframe thead th {\n",
       "        text-align: right;\n",
       "    }\n",
       "</style>\n",
       "<table border=\"1\" class=\"dataframe\">\n",
       "  <thead>\n",
       "    <tr style=\"text-align: right;\">\n",
       "      <th></th>\n",
       "      <th>{8F1B26BD-4F82-53DB-E053-6C04A8C03649}</th>\n",
       "      <th>289000</th>\n",
       "      <th>2006-08-25 00:00</th>\n",
       "      <th>SW10 0PR</th>\n",
       "      <th>F</th>\n",
       "      <th>N</th>\n",
       "      <th>L</th>\n",
       "      <th>GROUND FLOOR FLAT 11</th>\n",
       "      <th>Unnamed: 8</th>\n",
       "      <th>BURNABY STREET</th>\n",
       "      <th>Unnamed: 10</th>\n",
       "      <th>LONDON</th>\n",
       "      <th>KENSINGTON AND CHELSEA</th>\n",
       "      <th>GREATER LONDON</th>\n",
       "      <th>A</th>\n",
       "      <th>A.1</th>\n",
       "    </tr>\n",
       "  </thead>\n",
       "  <tbody>\n",
       "    <tr>\n",
       "      <th>0</th>\n",
       "      <td>{8F1B26BD-9496-53DB-E053-6C04A8C03649}</td>\n",
       "      <td>375000</td>\n",
       "      <td>2006-08-21 00:00</td>\n",
       "      <td>BN24 6EH</td>\n",
       "      <td>D</td>\n",
       "      <td>N</td>\n",
       "      <td>F</td>\n",
       "      <td>HOOK HOUSE</td>\n",
       "      <td>NaN</td>\n",
       "      <td>SEA ROAD</td>\n",
       "      <td>PEVENSEY BAY</td>\n",
       "      <td>PEVENSEY</td>\n",
       "      <td>WEALDEN</td>\n",
       "      <td>EAST SUSSEX</td>\n",
       "      <td>A</td>\n",
       "      <td>A</td>\n",
       "    </tr>\n",
       "    <tr>\n",
       "      <th>1</th>\n",
       "      <td>{8F1B26BD-A900-53DB-E053-6C04A8C03649}</td>\n",
       "      <td>445000</td>\n",
       "      <td>2006-01-12 00:00</td>\n",
       "      <td>GL55 6DZ</td>\n",
       "      <td>T</td>\n",
       "      <td>N</td>\n",
       "      <td>F</td>\n",
       "      <td>BLAKEMANS COTTAGE</td>\n",
       "      <td>NaN</td>\n",
       "      <td>LOWER HIGH STREET</td>\n",
       "      <td>NaN</td>\n",
       "      <td>CHIPPING CAMPDEN</td>\n",
       "      <td>COTSWOLD</td>\n",
       "      <td>GLOUCESTERSHIRE</td>\n",
       "      <td>A</td>\n",
       "      <td>A</td>\n",
       "    </tr>\n",
       "  </tbody>\n",
       "</table>\n",
       "</div>"
      ],
      "text/plain": [
       "   {8F1B26BD-4F82-53DB-E053-6C04A8C03649}  289000  2006-08-25 00:00  SW10 0PR  \\\n",
       "0  {8F1B26BD-9496-53DB-E053-6C04A8C03649}  375000  2006-08-21 00:00  BN24 6EH   \n",
       "1  {8F1B26BD-A900-53DB-E053-6C04A8C03649}  445000  2006-01-12 00:00  GL55 6DZ   \n",
       "\n",
       "   F  N  L GROUND FLOOR FLAT 11 Unnamed: 8     BURNABY STREET   Unnamed: 10  \\\n",
       "0  D  N  F           HOOK HOUSE        NaN           SEA ROAD  PEVENSEY BAY   \n",
       "1  T  N  F    BLAKEMANS COTTAGE        NaN  LOWER HIGH STREET           NaN   \n",
       "\n",
       "             LONDON KENSINGTON AND CHELSEA   GREATER LONDON  A A.1  \n",
       "0          PEVENSEY                WEALDEN      EAST SUSSEX  A   A  \n",
       "1  CHIPPING CAMPDEN               COTSWOLD  GLOUCESTERSHIRE  A   A  "
      ]
     },
     "execution_count": 130,
     "metadata": {},
     "output_type": "execute_result"
    }
   ],
   "source": [
    "result.head(2)"
   ]
  },
  {
   "cell_type": "code",
   "execution_count": 132,
   "metadata": {},
   "outputs": [],
   "source": [
    "df = pandas.DataFrame(result)"
   ]
  },
  {
   "cell_type": "code",
   "execution_count": 133,
   "metadata": {},
   "outputs": [],
   "source": [
    "cols = [0,3,5,7,8,9,10,11,12,14,15]\n",
    "df.drop(df.columns[cols],axis=1,inplace=True)"
   ]
  },
  {
   "cell_type": "code",
   "execution_count": 253,
   "metadata": {},
   "outputs": [
    {
     "data": {
      "text/html": [
       "<div>\n",
       "<style scoped>\n",
       "    .dataframe tbody tr th:only-of-type {\n",
       "        vertical-align: middle;\n",
       "    }\n",
       "\n",
       "    .dataframe tbody tr th {\n",
       "        vertical-align: top;\n",
       "    }\n",
       "\n",
       "    .dataframe thead th {\n",
       "        text-align: right;\n",
       "    }\n",
       "</style>\n",
       "<table border=\"1\" class=\"dataframe\">\n",
       "  <thead>\n",
       "    <tr style=\"text-align: right;\">\n",
       "      <th></th>\n",
       "      <th>289000</th>\n",
       "      <th>2006-08-25 00:00</th>\n",
       "      <th>F</th>\n",
       "      <th>L</th>\n",
       "      <th>GREATER LONDON</th>\n",
       "    </tr>\n",
       "  </thead>\n",
       "  <tbody>\n",
       "    <tr>\n",
       "      <th>0</th>\n",
       "      <td>375000</td>\n",
       "      <td>2006-08-21 00:00</td>\n",
       "      <td>D</td>\n",
       "      <td>F</td>\n",
       "      <td>EAST SUSSEX</td>\n",
       "    </tr>\n",
       "    <tr>\n",
       "      <th>1</th>\n",
       "      <td>445000</td>\n",
       "      <td>2006-01-12 00:00</td>\n",
       "      <td>T</td>\n",
       "      <td>F</td>\n",
       "      <td>GLOUCESTERSHIRE</td>\n",
       "    </tr>\n",
       "    <tr>\n",
       "      <th>2</th>\n",
       "      <td>121950</td>\n",
       "      <td>2006-06-30 00:00</td>\n",
       "      <td>F</td>\n",
       "      <td>L</td>\n",
       "      <td>STAFFORDSHIRE</td>\n",
       "    </tr>\n",
       "    <tr>\n",
       "      <th>3</th>\n",
       "      <td>161000</td>\n",
       "      <td>2006-01-20 00:00</td>\n",
       "      <td>F</td>\n",
       "      <td>F</td>\n",
       "      <td>GREATER LONDON</td>\n",
       "    </tr>\n",
       "    <tr>\n",
       "      <th>4</th>\n",
       "      <td>321111</td>\n",
       "      <td>2006-12-20 00:00</td>\n",
       "      <td>S</td>\n",
       "      <td>F</td>\n",
       "      <td>SHROPSHIRE</td>\n",
       "    </tr>\n",
       "    <tr>\n",
       "      <th>5</th>\n",
       "      <td>99500</td>\n",
       "      <td>2006-09-29 00:00</td>\n",
       "      <td>T</td>\n",
       "      <td>L</td>\n",
       "      <td>SOUTH YORKSHIRE</td>\n",
       "    </tr>\n",
       "    <tr>\n",
       "      <th>6</th>\n",
       "      <td>226000</td>\n",
       "      <td>2006-01-18 00:00</td>\n",
       "      <td>D</td>\n",
       "      <td>F</td>\n",
       "      <td>KENT</td>\n",
       "    </tr>\n",
       "    <tr>\n",
       "      <th>7</th>\n",
       "      <td>90000</td>\n",
       "      <td>2006-01-17 00:00</td>\n",
       "      <td>D</td>\n",
       "      <td>L</td>\n",
       "      <td>WEST MIDLANDS</td>\n",
       "    </tr>\n",
       "    <tr>\n",
       "      <th>8</th>\n",
       "      <td>110000</td>\n",
       "      <td>2006-04-12 00:00</td>\n",
       "      <td>D</td>\n",
       "      <td>L</td>\n",
       "      <td>WEST MIDLANDS</td>\n",
       "    </tr>\n",
       "    <tr>\n",
       "      <th>9</th>\n",
       "      <td>230000</td>\n",
       "      <td>2006-09-01 00:00</td>\n",
       "      <td>F</td>\n",
       "      <td>L</td>\n",
       "      <td>EAST RIDING OF YORKSHIRE</td>\n",
       "    </tr>\n",
       "  </tbody>\n",
       "</table>\n",
       "</div>"
      ],
      "text/plain": [
       "   289000  2006-08-25 00:00  F  L            GREATER LONDON\n",
       "0  375000  2006-08-21 00:00  D  F               EAST SUSSEX\n",
       "1  445000  2006-01-12 00:00  T  F           GLOUCESTERSHIRE\n",
       "2  121950  2006-06-30 00:00  F  L             STAFFORDSHIRE\n",
       "3  161000  2006-01-20 00:00  F  F            GREATER LONDON\n",
       "4  321111  2006-12-20 00:00  S  F                SHROPSHIRE\n",
       "5   99500  2006-09-29 00:00  T  L           SOUTH YORKSHIRE\n",
       "6  226000  2006-01-18 00:00  D  F                      KENT\n",
       "7   90000  2006-01-17 00:00  D  L             WEST MIDLANDS\n",
       "8  110000  2006-04-12 00:00  D  L             WEST MIDLANDS\n",
       "9  230000  2006-09-01 00:00  F  L  EAST RIDING OF YORKSHIRE"
      ]
     },
     "execution_count": 253,
     "metadata": {},
     "output_type": "execute_result"
    }
   ],
   "source": [
    "df.head(10)"
   ]
  },
  {
   "cell_type": "code",
   "execution_count": 254,
   "metadata": {},
   "outputs": [
    {
     "name": "stdout",
     "output_type": "stream",
     "text": [
      "mkdir: cannot create directory ‘./house_price_data2’: File exists\n"
     ]
    }
   ],
   "source": [
    "!mkdir ./house_price_data2"
   ]
  },
  {
   "cell_type": "code",
   "execution_count": 169,
   "metadata": {},
   "outputs": [],
   "source": [
    "df.to_csv(r'./house_price_data2/house_price_data.csv')"
   ]
  },
  {
   "cell_type": "code",
   "execution_count": 170,
   "metadata": {},
   "outputs": [
    {
     "name": "stdout",
     "output_type": "stream",
     "text": [
      "house_price_data.csv\n"
     ]
    }
   ],
   "source": [
    "!ls ./house_price_data2"
   ]
  },
  {
   "cell_type": "code",
   "execution_count": 166,
   "metadata": {},
   "outputs": [],
   "source": [
    "### !rm -r ./house_price_data2"
   ]
  },
  {
   "cell_type": "code",
   "execution_count": 119,
   "metadata": {},
   "outputs": [],
   "source": [
    "df.rename(columns={ df.columns[0]: \"price\", df.columns[1]: \"date\", df.columns[2]: \"type\",df.columns[3]: \"lease\", df.columns[4]: \"location\" }, inplace = True)"
   ]
  },
  {
   "cell_type": "code",
   "execution_count": 120,
   "metadata": {},
   "outputs": [
    {
     "data": {
      "text/html": [
       "<div>\n",
       "<style scoped>\n",
       "    .dataframe tbody tr th:only-of-type {\n",
       "        vertical-align: middle;\n",
       "    }\n",
       "\n",
       "    .dataframe tbody tr th {\n",
       "        vertical-align: top;\n",
       "    }\n",
       "\n",
       "    .dataframe thead th {\n",
       "        text-align: right;\n",
       "    }\n",
       "</style>\n",
       "<table border=\"1\" class=\"dataframe\">\n",
       "  <thead>\n",
       "    <tr style=\"text-align: right;\">\n",
       "      <th></th>\n",
       "      <th>price</th>\n",
       "      <th>date</th>\n",
       "      <th>type</th>\n",
       "      <th>lease</th>\n",
       "      <th>location</th>\n",
       "    </tr>\n",
       "  </thead>\n",
       "  <tbody>\n",
       "    <tr>\n",
       "      <th>0</th>\n",
       "      <td>375000</td>\n",
       "      <td>2006-08-21 00:00</td>\n",
       "      <td>D</td>\n",
       "      <td>F</td>\n",
       "      <td>EAST SUSSEX</td>\n",
       "    </tr>\n",
       "    <tr>\n",
       "      <th>1</th>\n",
       "      <td>445000</td>\n",
       "      <td>2006-01-12 00:00</td>\n",
       "      <td>T</td>\n",
       "      <td>F</td>\n",
       "      <td>GLOUCESTERSHIRE</td>\n",
       "    </tr>\n",
       "    <tr>\n",
       "      <th>2</th>\n",
       "      <td>121950</td>\n",
       "      <td>2006-06-30 00:00</td>\n",
       "      <td>F</td>\n",
       "      <td>L</td>\n",
       "      <td>STAFFORDSHIRE</td>\n",
       "    </tr>\n",
       "    <tr>\n",
       "      <th>3</th>\n",
       "      <td>161000</td>\n",
       "      <td>2006-01-20 00:00</td>\n",
       "      <td>F</td>\n",
       "      <td>F</td>\n",
       "      <td>GREATER LONDON</td>\n",
       "    </tr>\n",
       "    <tr>\n",
       "      <th>4</th>\n",
       "      <td>321111</td>\n",
       "      <td>2006-12-20 00:00</td>\n",
       "      <td>S</td>\n",
       "      <td>F</td>\n",
       "      <td>SHROPSHIRE</td>\n",
       "    </tr>\n",
       "  </tbody>\n",
       "</table>\n",
       "</div>"
      ],
      "text/plain": [
       "    price              date type lease         location\n",
       "0  375000  2006-08-21 00:00    D     F      EAST SUSSEX\n",
       "1  445000  2006-01-12 00:00    T     F  GLOUCESTERSHIRE\n",
       "2  121950  2006-06-30 00:00    F     L    STAFFORDSHIRE\n",
       "3  161000  2006-01-20 00:00    F     F   GREATER LONDON\n",
       "4  321111  2006-12-20 00:00    S     F       SHROPSHIRE"
      ]
     },
     "execution_count": 120,
     "metadata": {},
     "output_type": "execute_result"
    }
   ],
   "source": [
    "df.head(5)"
   ]
  },
  {
   "cell_type": "code",
   "execution_count": 128,
   "metadata": {},
   "outputs": [],
   "source": [
    "import sagemaker\n",
    "from sagemaker import get_execution_role\n",
    "\n",
    "sagemaker_session = sagemaker.Session()\n",
    "\n",
    "# Get a SageMaker-compatible role used by this Notebook Instance.\n",
    "role = get_execution_role()"
   ]
  },
  {
   "cell_type": "code",
   "execution_count": null,
   "metadata": {},
   "outputs": [],
   "source": []
  },
  {
   "cell_type": "code",
   "execution_count": 153,
   "metadata": {},
   "outputs": [
    {
     "name": "stdout",
     "output_type": "stream",
     "text": [
      "--2019-08-29 13:42:10--  http://prod1.publicdata.landregistry.gov.uk.s3-website-eu-west-1.amazonaws.com/pp-monthly-update-new-version.csv\n",
      "Resolving prod1.publicdata.landregistry.gov.uk.s3-website-eu-west-1.amazonaws.com (prod1.publicdata.landregistry.gov.uk.s3-website-eu-west-1.amazonaws.com)... 52.218.52.220\n",
      "Connecting to prod1.publicdata.landregistry.gov.uk.s3-website-eu-west-1.amazonaws.com (prod1.publicdata.landregistry.gov.uk.s3-website-eu-west-1.amazonaws.com)|52.218.52.220|:80... connected.\n",
      "HTTP request sent, awaiting response... 200 OK\n",
      "Length: 17590374 (17M) [text/csv]\n",
      "Saving to: ‘./house_price_data/pp-monthly-update-new-version.csv’\n",
      "\n",
      "pp-monthly-update-n 100%[===================>]  16.78M  96.6MB/s    in 0.2s    \n",
      "\n",
      "2019-08-29 13:42:10 (96.6 MB/s) - ‘./house_price_data/pp-monthly-update-new-version.csv’ saved [17590374/17590374]\n",
      "\n"
     ]
    }
   ],
   "source": [
    "!wget --directory-prefix=./house_price_data http://prod1.publicdata.landregistry.gov.uk.s3-website-eu-west-1.amazonaws.com/pp-monthly-update-new-version.csv\n"
   ]
  },
  {
   "cell_type": "code",
   "execution_count": 171,
   "metadata": {},
   "outputs": [
    {
     "name": "stdout",
     "output_type": "stream",
     "text": [
      "house_price_data  house_price_data2  lost+found  Untitled.ipynb\n"
     ]
    }
   ],
   "source": [
    "!ls"
   ]
  },
  {
   "cell_type": "code",
   "execution_count": 249,
   "metadata": {},
   "outputs": [],
   "source": [
    "# S3 prefix\n",
    "s3_bucket = 'mutest-01'\n",
    "prefix = 'house_price_data2'"
   ]
  },
  {
   "cell_type": "code",
   "execution_count": 246,
   "metadata": {},
   "outputs": [
    {
     "data": {
      "text/plain": [
       "'mutest-01'"
      ]
     },
     "execution_count": 246,
     "metadata": {},
     "output_type": "execute_result"
    }
   ],
   "source": [
    "s3_bucket"
   ]
  },
  {
   "cell_type": "code",
   "execution_count": 247,
   "metadata": {},
   "outputs": [
    {
     "data": {
      "text/plain": [
       "'https://s3-eu-west-1.amazonaws.com/mutest-01'"
      ]
     },
     "execution_count": 247,
     "metadata": {},
     "output_type": "execute_result"
    }
   ],
   "source": [
    "bucket_path"
   ]
  },
  {
   "cell_type": "code",
   "execution_count": 251,
   "metadata": {},
   "outputs": [],
   "source": [
    "WORK_DIRECTORY = '/home/ec2-user/SageMaker'\n",
    "\n",
    "train_input = sagemaker_session.upload_data(\n",
    "    path='{}/{}'.format(WORK_DIRECTORY, 'validation.csv'), \n",
    "    bucket=s3_bucket,\n",
    "    key_prefix='{}/{}'.format(prefix, 'validation'))"
   ]
  },
  {
   "cell_type": "code",
   "execution_count": 252,
   "metadata": {},
   "outputs": [
    {
     "data": {
      "text/plain": [
       "'s3://mutest-01/house_price_data2/validation/validation.csv'"
      ]
     },
     "execution_count": 252,
     "metadata": {},
     "output_type": "execute_result"
    }
   ],
   "source": [
    "train_input"
   ]
  },
  {
   "cell_type": "code",
   "execution_count": 175,
   "metadata": {},
   "outputs": [],
   "source": [
    "from __future__ import print_function\n",
    "\n",
    "import time\n",
    "import sys\n",
    "from io import StringIO\n",
    "import os\n",
    "import shutil\n",
    "\n",
    "import argparse\n",
    "import csv\n",
    "import json\n",
    "import numpy as np\n",
    "import pandas as pd\n",
    "\n",
    "from sklearn.compose import ColumnTransformer\n",
    "from sklearn.externals import joblib\n",
    "from sklearn.impute import SimpleImputer\n",
    "from sklearn.pipeline import Pipeline\n",
    "from sklearn.preprocessing import Binarizer, StandardScaler, OneHotEncoder"
   ]
  },
  {
   "cell_type": "code",
   "execution_count": 187,
   "metadata": {},
   "outputs": [
    {
     "ename": "ModuleNotFoundError",
     "evalue": "No module named 'sagemaker_containers'",
     "output_type": "error",
     "traceback": [
      "\u001b[0;31m---------------------------------------------------------------------------\u001b[0m",
      "\u001b[0;31mModuleNotFoundError\u001b[0m                       Traceback (most recent call last)",
      "\u001b[0;32m<ipython-input-187-0c6eab690870>\u001b[0m in \u001b[0;36m<module>\u001b[0;34m()\u001b[0m\n\u001b[0;32m----> 1\u001b[0;31m from sagemaker_containers.beta.framework import (\n\u001b[0m\u001b[1;32m      2\u001b[0m     content_types, encoders, env, modules, transformer, worker)\n",
      "\u001b[0;31mModuleNotFoundError\u001b[0m: No module named 'sagemaker_containers'"
     ]
    }
   ],
   "source": [
    "from sagemaker_containers.beta.framework import (\n",
    "    content_types, encoders, env, modules, transformer, worker)"
   ]
  },
  {
   "cell_type": "code",
   "execution_count": 181,
   "metadata": {},
   "outputs": [],
   "source": [
    "feature_columns_names = [\n",
    "    'price', # house price\n",
    "    'date', # transaction date\n",
    "    'type', # property type\n",
    "    'lease', # lease\n",
    "    'location', # loaction\n",
    "    ] # after being dried"
   ]
  },
  {
   "cell_type": "code",
   "execution_count": null,
   "metadata": {},
   "outputs": [],
   "source": [
    "feature_columns_dtype = {\n",
    "    'price': np.float64,\n",
    "    'date': np.float64,\n",
    "    'type': np.float64,\n",
    "    'lease': np.float64,\n",
    "    'location': np.float64,\n",
    "    }"
   ]
  },
  {
   "cell_type": "code",
   "execution_count": 184,
   "metadata": {},
   "outputs": [],
   "source": [
    "result = pd.read_csv('./house_price_data2/house_price_data.csv', delimiter=',')"
   ]
  },
  {
   "cell_type": "code",
   "execution_count": 185,
   "metadata": {},
   "outputs": [
    {
     "data": {
      "text/html": [
       "<div>\n",
       "<style scoped>\n",
       "    .dataframe tbody tr th:only-of-type {\n",
       "        vertical-align: middle;\n",
       "    }\n",
       "\n",
       "    .dataframe tbody tr th {\n",
       "        vertical-align: top;\n",
       "    }\n",
       "\n",
       "    .dataframe thead th {\n",
       "        text-align: right;\n",
       "    }\n",
       "</style>\n",
       "<table border=\"1\" class=\"dataframe\">\n",
       "  <thead>\n",
       "    <tr style=\"text-align: right;\">\n",
       "      <th></th>\n",
       "      <th>Unnamed: 0</th>\n",
       "      <th>289000</th>\n",
       "      <th>2006-08-25 00:00</th>\n",
       "      <th>F</th>\n",
       "      <th>L</th>\n",
       "      <th>GREATER LONDON</th>\n",
       "    </tr>\n",
       "  </thead>\n",
       "  <tbody>\n",
       "    <tr>\n",
       "      <th>0</th>\n",
       "      <td>0</td>\n",
       "      <td>375000</td>\n",
       "      <td>2006-08-21 00:00</td>\n",
       "      <td>D</td>\n",
       "      <td>F</td>\n",
       "      <td>EAST SUSSEX</td>\n",
       "    </tr>\n",
       "    <tr>\n",
       "      <th>1</th>\n",
       "      <td>1</td>\n",
       "      <td>445000</td>\n",
       "      <td>2006-01-12 00:00</td>\n",
       "      <td>T</td>\n",
       "      <td>F</td>\n",
       "      <td>GLOUCESTERSHIRE</td>\n",
       "    </tr>\n",
       "    <tr>\n",
       "      <th>2</th>\n",
       "      <td>2</td>\n",
       "      <td>121950</td>\n",
       "      <td>2006-06-30 00:00</td>\n",
       "      <td>F</td>\n",
       "      <td>L</td>\n",
       "      <td>STAFFORDSHIRE</td>\n",
       "    </tr>\n",
       "    <tr>\n",
       "      <th>3</th>\n",
       "      <td>3</td>\n",
       "      <td>161000</td>\n",
       "      <td>2006-01-20 00:00</td>\n",
       "      <td>F</td>\n",
       "      <td>F</td>\n",
       "      <td>GREATER LONDON</td>\n",
       "    </tr>\n",
       "    <tr>\n",
       "      <th>4</th>\n",
       "      <td>4</td>\n",
       "      <td>321111</td>\n",
       "      <td>2006-12-20 00:00</td>\n",
       "      <td>S</td>\n",
       "      <td>F</td>\n",
       "      <td>SHROPSHIRE</td>\n",
       "    </tr>\n",
       "    <tr>\n",
       "      <th>5</th>\n",
       "      <td>5</td>\n",
       "      <td>99500</td>\n",
       "      <td>2006-09-29 00:00</td>\n",
       "      <td>T</td>\n",
       "      <td>L</td>\n",
       "      <td>SOUTH YORKSHIRE</td>\n",
       "    </tr>\n",
       "    <tr>\n",
       "      <th>6</th>\n",
       "      <td>6</td>\n",
       "      <td>226000</td>\n",
       "      <td>2006-01-18 00:00</td>\n",
       "      <td>D</td>\n",
       "      <td>F</td>\n",
       "      <td>KENT</td>\n",
       "    </tr>\n",
       "    <tr>\n",
       "      <th>7</th>\n",
       "      <td>7</td>\n",
       "      <td>90000</td>\n",
       "      <td>2006-01-17 00:00</td>\n",
       "      <td>D</td>\n",
       "      <td>L</td>\n",
       "      <td>WEST MIDLANDS</td>\n",
       "    </tr>\n",
       "    <tr>\n",
       "      <th>8</th>\n",
       "      <td>8</td>\n",
       "      <td>110000</td>\n",
       "      <td>2006-04-12 00:00</td>\n",
       "      <td>D</td>\n",
       "      <td>L</td>\n",
       "      <td>WEST MIDLANDS</td>\n",
       "    </tr>\n",
       "    <tr>\n",
       "      <th>9</th>\n",
       "      <td>9</td>\n",
       "      <td>230000</td>\n",
       "      <td>2006-09-01 00:00</td>\n",
       "      <td>F</td>\n",
       "      <td>L</td>\n",
       "      <td>EAST RIDING OF YORKSHIRE</td>\n",
       "    </tr>\n",
       "    <tr>\n",
       "      <th>10</th>\n",
       "      <td>10</td>\n",
       "      <td>330000</td>\n",
       "      <td>2006-05-26 00:00</td>\n",
       "      <td>S</td>\n",
       "      <td>F</td>\n",
       "      <td>CHESHIRE WEST AND CHESTER</td>\n",
       "    </tr>\n",
       "    <tr>\n",
       "      <th>11</th>\n",
       "      <td>11</td>\n",
       "      <td>380000</td>\n",
       "      <td>2006-06-30 00:00</td>\n",
       "      <td>D</td>\n",
       "      <td>F</td>\n",
       "      <td>DORSET</td>\n",
       "    </tr>\n",
       "    <tr>\n",
       "      <th>12</th>\n",
       "      <td>12</td>\n",
       "      <td>190000</td>\n",
       "      <td>2006-06-30 00:00</td>\n",
       "      <td>F</td>\n",
       "      <td>L</td>\n",
       "      <td>KENT</td>\n",
       "    </tr>\n",
       "    <tr>\n",
       "      <th>13</th>\n",
       "      <td>13</td>\n",
       "      <td>105000</td>\n",
       "      <td>2006-02-17 00:00</td>\n",
       "      <td>D</td>\n",
       "      <td>F</td>\n",
       "      <td>LINCOLNSHIRE</td>\n",
       "    </tr>\n",
       "    <tr>\n",
       "      <th>14</th>\n",
       "      <td>14</td>\n",
       "      <td>189000</td>\n",
       "      <td>2006-10-25 00:00</td>\n",
       "      <td>T</td>\n",
       "      <td>F</td>\n",
       "      <td>NORTH YORKSHIRE</td>\n",
       "    </tr>\n",
       "    <tr>\n",
       "      <th>15</th>\n",
       "      <td>15</td>\n",
       "      <td>174995</td>\n",
       "      <td>2006-09-04 00:00</td>\n",
       "      <td>T</td>\n",
       "      <td>F</td>\n",
       "      <td>OXFORDSHIRE</td>\n",
       "    </tr>\n",
       "    <tr>\n",
       "      <th>16</th>\n",
       "      <td>16</td>\n",
       "      <td>242000</td>\n",
       "      <td>2006-11-17 00:00</td>\n",
       "      <td>T</td>\n",
       "      <td>F</td>\n",
       "      <td>HAMPSHIRE</td>\n",
       "    </tr>\n",
       "    <tr>\n",
       "      <th>17</th>\n",
       "      <td>17</td>\n",
       "      <td>115000</td>\n",
       "      <td>2006-08-11 00:00</td>\n",
       "      <td>T</td>\n",
       "      <td>L</td>\n",
       "      <td>TYNE AND WEAR</td>\n",
       "    </tr>\n",
       "    <tr>\n",
       "      <th>18</th>\n",
       "      <td>18</td>\n",
       "      <td>545000</td>\n",
       "      <td>2006-12-15 00:00</td>\n",
       "      <td>D</td>\n",
       "      <td>F</td>\n",
       "      <td>CORNWALL</td>\n",
       "    </tr>\n",
       "    <tr>\n",
       "      <th>19</th>\n",
       "      <td>19</td>\n",
       "      <td>205000</td>\n",
       "      <td>2006-11-10 00:00</td>\n",
       "      <td>D</td>\n",
       "      <td>F</td>\n",
       "      <td>WREXHAM</td>\n",
       "    </tr>\n",
       "    <tr>\n",
       "      <th>20</th>\n",
       "      <td>20</td>\n",
       "      <td>160000</td>\n",
       "      <td>2006-03-17 00:00</td>\n",
       "      <td>T</td>\n",
       "      <td>L</td>\n",
       "      <td>GREATER LONDON</td>\n",
       "    </tr>\n",
       "    <tr>\n",
       "      <th>21</th>\n",
       "      <td>21</td>\n",
       "      <td>165000</td>\n",
       "      <td>2006-10-26 00:00</td>\n",
       "      <td>T</td>\n",
       "      <td>F</td>\n",
       "      <td>CUMBRIA</td>\n",
       "    </tr>\n",
       "    <tr>\n",
       "      <th>22</th>\n",
       "      <td>22</td>\n",
       "      <td>250000</td>\n",
       "      <td>2006-10-23 00:00</td>\n",
       "      <td>F</td>\n",
       "      <td>L</td>\n",
       "      <td>GREATER LONDON</td>\n",
       "    </tr>\n",
       "    <tr>\n",
       "      <th>23</th>\n",
       "      <td>23</td>\n",
       "      <td>2598860</td>\n",
       "      <td>2006-10-11 00:00</td>\n",
       "      <td>D</td>\n",
       "      <td>F</td>\n",
       "      <td>NORFOLK</td>\n",
       "    </tr>\n",
       "    <tr>\n",
       "      <th>24</th>\n",
       "      <td>24</td>\n",
       "      <td>350000</td>\n",
       "      <td>2006-07-25 00:00</td>\n",
       "      <td>F</td>\n",
       "      <td>L</td>\n",
       "      <td>GREATER LONDON</td>\n",
       "    </tr>\n",
       "    <tr>\n",
       "      <th>25</th>\n",
       "      <td>25</td>\n",
       "      <td>250000</td>\n",
       "      <td>2006-08-10 00:00</td>\n",
       "      <td>F</td>\n",
       "      <td>F</td>\n",
       "      <td>WEST SUSSEX</td>\n",
       "    </tr>\n",
       "    <tr>\n",
       "      <th>26</th>\n",
       "      <td>26</td>\n",
       "      <td>103000</td>\n",
       "      <td>2006-03-03 00:00</td>\n",
       "      <td>F</td>\n",
       "      <td>L</td>\n",
       "      <td>PORTSMOUTH</td>\n",
       "    </tr>\n",
       "    <tr>\n",
       "      <th>27</th>\n",
       "      <td>27</td>\n",
       "      <td>410000</td>\n",
       "      <td>2006-11-27 00:00</td>\n",
       "      <td>D</td>\n",
       "      <td>F</td>\n",
       "      <td>RUTLAND</td>\n",
       "    </tr>\n",
       "    <tr>\n",
       "      <th>28</th>\n",
       "      <td>28</td>\n",
       "      <td>92000</td>\n",
       "      <td>2006-05-18 00:00</td>\n",
       "      <td>D</td>\n",
       "      <td>F</td>\n",
       "      <td>NORTH LINCOLNSHIRE</td>\n",
       "    </tr>\n",
       "    <tr>\n",
       "      <th>29</th>\n",
       "      <td>29</td>\n",
       "      <td>330000</td>\n",
       "      <td>2006-05-10 00:00</td>\n",
       "      <td>T</td>\n",
       "      <td>F</td>\n",
       "      <td>DEVON</td>\n",
       "    </tr>\n",
       "    <tr>\n",
       "      <th>...</th>\n",
       "      <td>...</td>\n",
       "      <td>...</td>\n",
       "      <td>...</td>\n",
       "      <td>...</td>\n",
       "      <td>...</td>\n",
       "      <td>...</td>\n",
       "    </tr>\n",
       "    <tr>\n",
       "      <th>100945</th>\n",
       "      <td>100945</td>\n",
       "      <td>147500</td>\n",
       "      <td>2019-03-29 00:00</td>\n",
       "      <td>S</td>\n",
       "      <td>F</td>\n",
       "      <td>LANCASHIRE</td>\n",
       "    </tr>\n",
       "    <tr>\n",
       "      <th>100946</th>\n",
       "      <td>100946</td>\n",
       "      <td>200000</td>\n",
       "      <td>2019-04-05 00:00</td>\n",
       "      <td>D</td>\n",
       "      <td>F</td>\n",
       "      <td>LINCOLNSHIRE</td>\n",
       "    </tr>\n",
       "    <tr>\n",
       "      <th>100947</th>\n",
       "      <td>100947</td>\n",
       "      <td>265000</td>\n",
       "      <td>2019-04-12 00:00</td>\n",
       "      <td>D</td>\n",
       "      <td>F</td>\n",
       "      <td>LINCOLNSHIRE</td>\n",
       "    </tr>\n",
       "    <tr>\n",
       "      <th>100948</th>\n",
       "      <td>100948</td>\n",
       "      <td>177500</td>\n",
       "      <td>2019-02-20 00:00</td>\n",
       "      <td>T</td>\n",
       "      <td>F</td>\n",
       "      <td>RUTLAND</td>\n",
       "    </tr>\n",
       "    <tr>\n",
       "      <th>100949</th>\n",
       "      <td>100949</td>\n",
       "      <td>377500</td>\n",
       "      <td>2019-02-28 00:00</td>\n",
       "      <td>F</td>\n",
       "      <td>L</td>\n",
       "      <td>ESSEX</td>\n",
       "    </tr>\n",
       "    <tr>\n",
       "      <th>100950</th>\n",
       "      <td>100950</td>\n",
       "      <td>370000</td>\n",
       "      <td>2019-04-08 00:00</td>\n",
       "      <td>T</td>\n",
       "      <td>F</td>\n",
       "      <td>ESSEX</td>\n",
       "    </tr>\n",
       "    <tr>\n",
       "      <th>100951</th>\n",
       "      <td>100951</td>\n",
       "      <td>160000</td>\n",
       "      <td>2019-03-22 00:00</td>\n",
       "      <td>F</td>\n",
       "      <td>L</td>\n",
       "      <td>SOUTHEND-ON-SEA</td>\n",
       "    </tr>\n",
       "    <tr>\n",
       "      <th>100952</th>\n",
       "      <td>100952</td>\n",
       "      <td>81000</td>\n",
       "      <td>2019-03-19 00:00</td>\n",
       "      <td>F</td>\n",
       "      <td>L</td>\n",
       "      <td>GREATER MANCHESTER</td>\n",
       "    </tr>\n",
       "    <tr>\n",
       "      <th>100953</th>\n",
       "      <td>100953</td>\n",
       "      <td>246000</td>\n",
       "      <td>2019-04-15 00:00</td>\n",
       "      <td>T</td>\n",
       "      <td>F</td>\n",
       "      <td>ESSEX</td>\n",
       "    </tr>\n",
       "    <tr>\n",
       "      <th>100954</th>\n",
       "      <td>100954</td>\n",
       "      <td>375000</td>\n",
       "      <td>2019-03-29 00:00</td>\n",
       "      <td>D</td>\n",
       "      <td>F</td>\n",
       "      <td>THURROCK</td>\n",
       "    </tr>\n",
       "    <tr>\n",
       "      <th>100955</th>\n",
       "      <td>100955</td>\n",
       "      <td>126000</td>\n",
       "      <td>2019-03-15 00:00</td>\n",
       "      <td>F</td>\n",
       "      <td>L</td>\n",
       "      <td>ESSEX</td>\n",
       "    </tr>\n",
       "    <tr>\n",
       "      <th>100956</th>\n",
       "      <td>100956</td>\n",
       "      <td>2100000</td>\n",
       "      <td>2019-03-13 00:00</td>\n",
       "      <td>D</td>\n",
       "      <td>F</td>\n",
       "      <td>ESSEX</td>\n",
       "    </tr>\n",
       "    <tr>\n",
       "      <th>100957</th>\n",
       "      <td>100957</td>\n",
       "      <td>310000</td>\n",
       "      <td>2019-03-29 00:00</td>\n",
       "      <td>F</td>\n",
       "      <td>L</td>\n",
       "      <td>ESSEX</td>\n",
       "    </tr>\n",
       "    <tr>\n",
       "      <th>100958</th>\n",
       "      <td>100958</td>\n",
       "      <td>350000</td>\n",
       "      <td>2019-04-12 00:00</td>\n",
       "      <td>D</td>\n",
       "      <td>F</td>\n",
       "      <td>ESSEX</td>\n",
       "    </tr>\n",
       "    <tr>\n",
       "      <th>100959</th>\n",
       "      <td>100959</td>\n",
       "      <td>148000</td>\n",
       "      <td>2019-02-26 00:00</td>\n",
       "      <td>S</td>\n",
       "      <td>L</td>\n",
       "      <td>GREATER MANCHESTER</td>\n",
       "    </tr>\n",
       "    <tr>\n",
       "      <th>100960</th>\n",
       "      <td>100960</td>\n",
       "      <td>929425</td>\n",
       "      <td>2019-04-03 00:00</td>\n",
       "      <td>D</td>\n",
       "      <td>F</td>\n",
       "      <td>ESSEX</td>\n",
       "    </tr>\n",
       "    <tr>\n",
       "      <th>100961</th>\n",
       "      <td>100961</td>\n",
       "      <td>295000</td>\n",
       "      <td>2019-03-27 00:00</td>\n",
       "      <td>D</td>\n",
       "      <td>F</td>\n",
       "      <td>GREATER MANCHESTER</td>\n",
       "    </tr>\n",
       "    <tr>\n",
       "      <th>100962</th>\n",
       "      <td>100962</td>\n",
       "      <td>145000</td>\n",
       "      <td>2019-04-05 00:00</td>\n",
       "      <td>F</td>\n",
       "      <td>L</td>\n",
       "      <td>GREATER MANCHESTER</td>\n",
       "    </tr>\n",
       "    <tr>\n",
       "      <th>100963</th>\n",
       "      <td>100963</td>\n",
       "      <td>345000</td>\n",
       "      <td>2019-03-22 00:00</td>\n",
       "      <td>S</td>\n",
       "      <td>F</td>\n",
       "      <td>ESSEX</td>\n",
       "    </tr>\n",
       "    <tr>\n",
       "      <th>100964</th>\n",
       "      <td>100964</td>\n",
       "      <td>173000</td>\n",
       "      <td>2019-02-15 00:00</td>\n",
       "      <td>F</td>\n",
       "      <td>L</td>\n",
       "      <td>KENT</td>\n",
       "    </tr>\n",
       "    <tr>\n",
       "      <th>100965</th>\n",
       "      <td>100965</td>\n",
       "      <td>620000</td>\n",
       "      <td>2019-03-22 00:00</td>\n",
       "      <td>T</td>\n",
       "      <td>F</td>\n",
       "      <td>GREATER LONDON</td>\n",
       "    </tr>\n",
       "    <tr>\n",
       "      <th>100966</th>\n",
       "      <td>100966</td>\n",
       "      <td>1400000</td>\n",
       "      <td>2019-03-28 00:00</td>\n",
       "      <td>F</td>\n",
       "      <td>L</td>\n",
       "      <td>GREATER LONDON</td>\n",
       "    </tr>\n",
       "    <tr>\n",
       "      <th>100967</th>\n",
       "      <td>100967</td>\n",
       "      <td>360000</td>\n",
       "      <td>2019-02-14 00:00</td>\n",
       "      <td>F</td>\n",
       "      <td>L</td>\n",
       "      <td>GREATER LONDON</td>\n",
       "    </tr>\n",
       "    <tr>\n",
       "      <th>100968</th>\n",
       "      <td>100968</td>\n",
       "      <td>1050000</td>\n",
       "      <td>2019-04-04 00:00</td>\n",
       "      <td>D</td>\n",
       "      <td>F</td>\n",
       "      <td>GREATER LONDON</td>\n",
       "    </tr>\n",
       "    <tr>\n",
       "      <th>100969</th>\n",
       "      <td>100969</td>\n",
       "      <td>1082310</td>\n",
       "      <td>2019-01-31 00:00</td>\n",
       "      <td>T</td>\n",
       "      <td>L</td>\n",
       "      <td>GREATER LONDON</td>\n",
       "    </tr>\n",
       "    <tr>\n",
       "      <th>100970</th>\n",
       "      <td>100970</td>\n",
       "      <td>345000</td>\n",
       "      <td>2019-04-05 00:00</td>\n",
       "      <td>T</td>\n",
       "      <td>F</td>\n",
       "      <td>KENT</td>\n",
       "    </tr>\n",
       "    <tr>\n",
       "      <th>100971</th>\n",
       "      <td>100971</td>\n",
       "      <td>820000</td>\n",
       "      <td>2019-01-18 00:00</td>\n",
       "      <td>F</td>\n",
       "      <td>L</td>\n",
       "      <td>GREATER LONDON</td>\n",
       "    </tr>\n",
       "    <tr>\n",
       "      <th>100972</th>\n",
       "      <td>100972</td>\n",
       "      <td>150000</td>\n",
       "      <td>2019-02-01 00:00</td>\n",
       "      <td>T</td>\n",
       "      <td>F</td>\n",
       "      <td>TYNE AND WEAR</td>\n",
       "    </tr>\n",
       "    <tr>\n",
       "      <th>100973</th>\n",
       "      <td>100973</td>\n",
       "      <td>120000</td>\n",
       "      <td>2019-04-10 00:00</td>\n",
       "      <td>T</td>\n",
       "      <td>L</td>\n",
       "      <td>TYNE AND WEAR</td>\n",
       "    </tr>\n",
       "    <tr>\n",
       "      <th>100974</th>\n",
       "      <td>100974</td>\n",
       "      <td>230000</td>\n",
       "      <td>2019-02-07 00:00</td>\n",
       "      <td>F</td>\n",
       "      <td>L</td>\n",
       "      <td>KENT</td>\n",
       "    </tr>\n",
       "  </tbody>\n",
       "</table>\n",
       "<p>100975 rows × 6 columns</p>\n",
       "</div>"
      ],
      "text/plain": [
       "        Unnamed: 0   289000  2006-08-25 00:00  F  L             GREATER LONDON\n",
       "0                0   375000  2006-08-21 00:00  D  F                EAST SUSSEX\n",
       "1                1   445000  2006-01-12 00:00  T  F            GLOUCESTERSHIRE\n",
       "2                2   121950  2006-06-30 00:00  F  L              STAFFORDSHIRE\n",
       "3                3   161000  2006-01-20 00:00  F  F             GREATER LONDON\n",
       "4                4   321111  2006-12-20 00:00  S  F                 SHROPSHIRE\n",
       "5                5    99500  2006-09-29 00:00  T  L            SOUTH YORKSHIRE\n",
       "6                6   226000  2006-01-18 00:00  D  F                       KENT\n",
       "7                7    90000  2006-01-17 00:00  D  L              WEST MIDLANDS\n",
       "8                8   110000  2006-04-12 00:00  D  L              WEST MIDLANDS\n",
       "9                9   230000  2006-09-01 00:00  F  L   EAST RIDING OF YORKSHIRE\n",
       "10              10   330000  2006-05-26 00:00  S  F  CHESHIRE WEST AND CHESTER\n",
       "11              11   380000  2006-06-30 00:00  D  F                     DORSET\n",
       "12              12   190000  2006-06-30 00:00  F  L                       KENT\n",
       "13              13   105000  2006-02-17 00:00  D  F               LINCOLNSHIRE\n",
       "14              14   189000  2006-10-25 00:00  T  F            NORTH YORKSHIRE\n",
       "15              15   174995  2006-09-04 00:00  T  F                OXFORDSHIRE\n",
       "16              16   242000  2006-11-17 00:00  T  F                  HAMPSHIRE\n",
       "17              17   115000  2006-08-11 00:00  T  L              TYNE AND WEAR\n",
       "18              18   545000  2006-12-15 00:00  D  F                   CORNWALL\n",
       "19              19   205000  2006-11-10 00:00  D  F                    WREXHAM\n",
       "20              20   160000  2006-03-17 00:00  T  L             GREATER LONDON\n",
       "21              21   165000  2006-10-26 00:00  T  F                    CUMBRIA\n",
       "22              22   250000  2006-10-23 00:00  F  L             GREATER LONDON\n",
       "23              23  2598860  2006-10-11 00:00  D  F                    NORFOLK\n",
       "24              24   350000  2006-07-25 00:00  F  L             GREATER LONDON\n",
       "25              25   250000  2006-08-10 00:00  F  F                WEST SUSSEX\n",
       "26              26   103000  2006-03-03 00:00  F  L                 PORTSMOUTH\n",
       "27              27   410000  2006-11-27 00:00  D  F                    RUTLAND\n",
       "28              28    92000  2006-05-18 00:00  D  F         NORTH LINCOLNSHIRE\n",
       "29              29   330000  2006-05-10 00:00  T  F                      DEVON\n",
       "...            ...      ...               ... .. ..                        ...\n",
       "100945      100945   147500  2019-03-29 00:00  S  F                 LANCASHIRE\n",
       "100946      100946   200000  2019-04-05 00:00  D  F               LINCOLNSHIRE\n",
       "100947      100947   265000  2019-04-12 00:00  D  F               LINCOLNSHIRE\n",
       "100948      100948   177500  2019-02-20 00:00  T  F                    RUTLAND\n",
       "100949      100949   377500  2019-02-28 00:00  F  L                      ESSEX\n",
       "100950      100950   370000  2019-04-08 00:00  T  F                      ESSEX\n",
       "100951      100951   160000  2019-03-22 00:00  F  L            SOUTHEND-ON-SEA\n",
       "100952      100952    81000  2019-03-19 00:00  F  L         GREATER MANCHESTER\n",
       "100953      100953   246000  2019-04-15 00:00  T  F                      ESSEX\n",
       "100954      100954   375000  2019-03-29 00:00  D  F                   THURROCK\n",
       "100955      100955   126000  2019-03-15 00:00  F  L                      ESSEX\n",
       "100956      100956  2100000  2019-03-13 00:00  D  F                      ESSEX\n",
       "100957      100957   310000  2019-03-29 00:00  F  L                      ESSEX\n",
       "100958      100958   350000  2019-04-12 00:00  D  F                      ESSEX\n",
       "100959      100959   148000  2019-02-26 00:00  S  L         GREATER MANCHESTER\n",
       "100960      100960   929425  2019-04-03 00:00  D  F                      ESSEX\n",
       "100961      100961   295000  2019-03-27 00:00  D  F         GREATER MANCHESTER\n",
       "100962      100962   145000  2019-04-05 00:00  F  L         GREATER MANCHESTER\n",
       "100963      100963   345000  2019-03-22 00:00  S  F                      ESSEX\n",
       "100964      100964   173000  2019-02-15 00:00  F  L                       KENT\n",
       "100965      100965   620000  2019-03-22 00:00  T  F             GREATER LONDON\n",
       "100966      100966  1400000  2019-03-28 00:00  F  L             GREATER LONDON\n",
       "100967      100967   360000  2019-02-14 00:00  F  L             GREATER LONDON\n",
       "100968      100968  1050000  2019-04-04 00:00  D  F             GREATER LONDON\n",
       "100969      100969  1082310  2019-01-31 00:00  T  L             GREATER LONDON\n",
       "100970      100970   345000  2019-04-05 00:00  T  F                       KENT\n",
       "100971      100971   820000  2019-01-18 00:00  F  L             GREATER LONDON\n",
       "100972      100972   150000  2019-02-01 00:00  T  F              TYNE AND WEAR\n",
       "100973      100973   120000  2019-04-10 00:00  T  L              TYNE AND WEAR\n",
       "100974      100974   230000  2019-02-07 00:00  F  L                       KENT\n",
       "\n",
       "[100975 rows x 6 columns]"
      ]
     },
     "execution_count": 185,
     "metadata": {},
     "output_type": "execute_result"
    }
   ],
   "source": [
    "result"
   ]
  },
  {
   "cell_type": "code",
   "execution_count": null,
   "metadata": {},
   "outputs": [],
   "source": []
  },
  {
   "cell_type": "code",
   "execution_count": null,
   "metadata": {},
   "outputs": [],
   "source": []
  },
  {
   "cell_type": "code",
   "execution_count": null,
   "metadata": {},
   "outputs": [],
   "source": []
  },
  {
   "cell_type": "code",
   "execution_count": null,
   "metadata": {},
   "outputs": [],
   "source": []
  },
  {
   "cell_type": "code",
   "execution_count": 193,
   "metadata": {},
   "outputs": [],
   "source": [
    "import os\n",
    "import boto3\n",
    "import re\n",
    "import copy\n",
    "import time\n",
    "from time import gmtime, strftime\n",
    "from sagemaker import get_execution_role\n",
    "\n",
    "role = get_execution_role()\n",
    "\n",
    "region = boto3.Session().region_name\n",
    "\n",
    "bucket='mutest-01' # Replace with your s3 bucket name\n",
    "prefix = 'sagemaker/xgboost-mnist' # Used as part of the path in the bucket where you store data\n",
    "bucket_path = 'https://s3-{}.amazonaws.com/{}'.format(region,bucket) # The URL to access the bucket"
   ]
  },
  {
   "cell_type": "code",
   "execution_count": 194,
   "metadata": {},
   "outputs": [
    {
     "name": "stdout",
     "output_type": "stream",
     "text": [
      "(50000, 784)\n",
      "CPU times: user 906 ms, sys: 275 ms, total: 1.18 s\n",
      "Wall time: 3.96 s\n"
     ]
    }
   ],
   "source": [
    "%%time \n",
    "import pickle, gzip, urllib.request, json\n",
    "import numpy as np\n",
    "\n",
    "# Load the dataset\n",
    "urllib.request.urlretrieve(\"http://deeplearning.net/data/mnist/mnist.pkl.gz\", \"mnist.pkl.gz\")\n",
    "with gzip.open('mnist.pkl.gz', 'rb') as f:\n",
    "    train_set, valid_set, test_set = pickle.load(f, encoding='latin1')\n",
    "print(train_set[0].shape)"
   ]
  },
  {
   "cell_type": "code",
   "execution_count": 195,
   "metadata": {},
   "outputs": [
    {
     "name": "stdout",
     "output_type": "stream",
     "text": [
      "This is a 5\n"
     ]
    },
    {
     "data": {
      "image/png": "[encoded data removed]",
      "text/plain": [
       "<Figure size 144x720 with 1 Axes>"
      ]
     },
     "metadata": {},
     "output_type": "display_data"
    },
    {
     "name": "stdout",
     "output_type": "stream",
     "text": [
      "This is a 0\n"
     ]
    },
    {
     "data": {
      "image/png": "[encoded data removed]",
      "text/plain": [
       "<Figure size 144x720 with 1 Axes>"
      ]
     },
     "metadata": {},
     "output_type": "display_data"
    },
    {
     "name": "stdout",
     "output_type": "stream",
     "text": [
      "This is a 4\n"
     ]
    },
    {
     "data": {
      "image/png": "[encoded data removed]",
      "text/plain": [
       "<Figure size 144x720 with 1 Axes>"
      ]
     },
     "metadata": {},
     "output_type": "display_data"
    },
    {
     "name": "stdout",
     "output_type": "stream",
     "text": [
      "This is a 1\n"
     ]
    },
    {
     "data": {
      "image/png": "[encoded data removed]",
      "text/plain": [
       "<Figure size 144x720 with 1 Axes>"
      ]
     },
     "metadata": {},
     "output_type": "display_data"
    },
    {
     "name": "stdout",
     "output_type": "stream",
     "text": [
      "This is a 9\n"
     ]
    },
    {
     "data": {
      "image/png": "[encoded data removed]",
      "text/plain": [
       "<Figure size 144x720 with 1 Axes>"
      ]
     },
     "metadata": {},
     "output_type": "display_data"
    },
    {
     "name": "stdout",
     "output_type": "stream",
     "text": [
      "This is a 2\n"
     ]
    },
    {
     "data": {
      "image/png": "[encoded data removed]",
      "text/plain": [
       "<Figure size 144x720 with 1 Axes>"
      ]
     },
     "metadata": {},
     "output_type": "display_data"
    },
    {
     "name": "stdout",
     "output_type": "stream",
     "text": [
      "This is a 1\n"
     ]
    },
    {
     "data": {
      "image/png": "[encoded data removed]",
      "text/plain": [
       "<Figure size 144x720 with 1 Axes>"
      ]
     },
     "metadata": {},
     "output_type": "display_data"
    },
    {
     "name": "stdout",
     "output_type": "stream",
     "text": [
      "This is a 3\n"
     ]
    },
    {
     "data": {
      "image/png": "[encoded data removed]",
      "text/plain": [
       "<Figure size 144x720 with 1 Axes>"
      ]
     },
     "metadata": {},
     "output_type": "display_data"
    },
    {
     "name": "stdout",
     "output_type": "stream",
     "text": [
      "This is a 1\n"
     ]
    },
    {
     "data": {
      "image/png": "[encoded data removed]",
      "text/plain": [
       "<Figure size 144x720 with 1 Axes>"
      ]
     },
     "metadata": {},
     "output_type": "display_data"
    },
    {
     "name": "stdout",
     "output_type": "stream",
     "text": [
      "This is a 4\n"
     ]
    },
    {
     "data": {
      "image/png": "[encoded data removed]",
      "text/plain": [
       "<Figure size 144x720 with 1 Axes>"
      ]
     },
     "metadata": {},
     "output_type": "display_data"
    }
   ],
   "source": [
    "%matplotlib inline\n",
    "import matplotlib.pyplot as plt\n",
    "\n",
    "plt.rcParams[\"figure.figsize\"] = (2,10)\n",
    "\n",
    "for i in range(0, 10):\n",
    "    img = train_set[0][i]\n",
    "    label = train_set[1][i]\n",
    "    img_reshape = img.reshape((28,28))\n",
    "    imgplot = plt.imshow(img_reshape, cmap='gray')\n",
    "    print('This is a {}'.format(label))\n",
    "    plt.show()"
   ]
  },
  {
   "cell_type": "code",
   "execution_count": 206,
   "metadata": {},
   "outputs": [
    {
     "name": "stdout",
     "output_type": "stream",
     "text": [
      "train: (50000, 784) (50000,)\n",
      "Done writing to s3://mutest-01/sagemaker/xgboost-mnist/train/examples\n",
      "validation: (10000, 784) (10000,)\n",
      "Done writing to s3://mutest-01/sagemaker/xgboost-mnist/validation/examples\n",
      "test: (10000, 784) (10000,)\n",
      "Done writing to s3://mutest-01/sagemaker/xgboost-mnist/test/examples\n",
      "CPU times: user 40.1 s, sys: 4.24 s, total: 44.4 s\n",
      "Wall time: 54.8 s\n"
     ]
    }
   ],
   "source": [
    "%%time\n",
    "\n",
    "import struct\n",
    "import io\n",
    "import csv\n",
    "import boto3\n",
    "        \n",
    "def convert_data():\n",
    "    data_partitions = [('train', train_set), ('validation', valid_set), ('test', test_set)]\n",
    "    for data_partition_name, data_partition in data_partitions:\n",
    "        print('{}: {} {}'.format(data_partition_name, data_partition[0].shape, data_partition[1].shape))\n",
    "        labels = [t.tolist() for t in data_partition[1]]\n",
    "        features = [t.tolist() for t in data_partition[0]]\n",
    "        \n",
    "        if data_partition_name != 'test':\n",
    "            examples = np.insert(features, 0, labels, axis=1)\n",
    "        else:\n",
    "            examples = features\n",
    "        #print(examples[50000,:])\n",
    "        \n",
    "        \n",
    "        np.savetxt('data.csv', examples, delimiter=',')\n",
    "        \n",
    "        \n",
    "        \n",
    "        key = \"{}/{}/examples\".format(prefix,data_partition_name)\n",
    "        url = 's3://{}/{}'.format(bucket, key)\n",
    "        boto3.Session().resource('s3').Bucket(bucket).Object(key).upload_file('data.csv')\n",
    "        print('Done writing to {}'.format(url))\n",
    "        \n",
    "convert_data()"
   ]
  },
  {
   "cell_type": "code",
   "execution_count": 207,
   "metadata": {},
   "outputs": [],
   "source": [
    "import sagemaker\n",
    "\n",
    "from sagemaker.amazon.amazon_estimator import get_image_uri\n",
    "\n",
    "container = get_image_uri(boto3.Session().region_name, 'xgboost')"
   ]
  },
  {
   "cell_type": "code",
   "execution_count": 208,
   "metadata": {},
   "outputs": [
    {
     "name": "stdout",
     "output_type": "stream",
     "text": [
      "s3://mutest-01/sagemaker/xgboost-mnist/train\n"
     ]
    }
   ],
   "source": [
    "train_data = 's3://{}/{}/{}'.format(bucket, prefix, 'train')\n",
    "\n",
    "validation_data = 's3://{}/{}/{}'.format(bucket, prefix, 'validation')\n",
    "\n",
    "s3_output_location = 's3://{}/{}/{}'.format(bucket, prefix, 'xgboost_model_sdk')\n",
    "print(train_data)"
   ]
  },
  {
   "cell_type": "code",
   "execution_count": 209,
   "metadata": {},
   "outputs": [],
   "source": [
    "xgb_model = sagemaker.estimator.Estimator(container,\n",
    "                                         role, \n",
    "                                         train_instance_count=1, \n",
    "                                         train_instance_type='ml.t2.medium',\n",
    "                                         train_volume_size = 5,\n",
    "                                         output_path=s3_output_location,\n",
    "                                         sagemaker_session=sagemaker.Session())"
   ]
  },
  {
   "cell_type": "code",
   "execution_count": 210,
   "metadata": {},
   "outputs": [],
   "source": [
    "train_channel = sagemaker.session.s3_input(train_data, content_type='text/csv')\n",
    "valid_channel = sagemaker.session.s3_input(validation_data, content_type='text/csv')\n",
    "\n",
    "data_channels = {'train': train_channel, 'validation': valid_channel}"
   ]
  },
  {
   "cell_type": "code",
   "execution_count": 211,
   "metadata": {},
   "outputs": [
    {
     "ename": "ClientError",
     "evalue": "An error occurred (ValidationException) when calling the CreateTrainingJob operation: 1 validation error detected: Value 'ml.t2.medium' at 'resourceConfig.instanceType' failed to satisfy constraint: Member must satisfy enum value set: [ml.p2.xlarge, ml.m5.4xlarge, ml.m4.16xlarge, ml.p3.16xlarge, ml.m5.large, ml.p2.16xlarge, ml.c4.2xlarge, ml.c5.2xlarge, ml.c4.4xlarge, ml.c5.4xlarge, ml.c4.8xlarge, ml.c5.9xlarge, ml.c5.xlarge, ml.c4.xlarge, ml.c5.18xlarge, ml.p3dn.24xlarge, ml.p3.2xlarge, ml.m5.xlarge, ml.m4.10xlarge, ml.m5.12xlarge, ml.m4.xlarge, ml.m5.24xlarge, ml.m4.2xlarge, ml.p2.8xlarge, ml.m5.2xlarge, ml.p3.8xlarge, ml.m4.4xlarge]",
     "output_type": "error",
     "traceback": [
      "\u001b[0;31m---------------------------------------------------------------------------\u001b[0m",
      "\u001b[0;31mClientError\u001b[0m                               Traceback (most recent call last)",
      "\u001b[0;32m<ipython-input-211-2a1297fffee0>\u001b[0m in \u001b[0;36m<module>\u001b[0;34m()\u001b[0m\n\u001b[0;32m----> 1\u001b[0;31m \u001b[0mxgb_model\u001b[0m\u001b[0;34m.\u001b[0m\u001b[0mfit\u001b[0m\u001b[0;34m(\u001b[0m\u001b[0minputs\u001b[0m\u001b[0;34m=\u001b[0m\u001b[0mdata_channels\u001b[0m\u001b[0;34m,\u001b[0m  \u001b[0mlogs\u001b[0m\u001b[0;34m=\u001b[0m\u001b[0;32mTrue\u001b[0m\u001b[0;34m)\u001b[0m\u001b[0;34m\u001b[0m\u001b[0m\n\u001b[0m",
      "\u001b[0;32m~/anaconda3/envs/python3/lib/python3.6/site-packages/sagemaker/estimator.py\u001b[0m in \u001b[0;36mfit\u001b[0;34m(self, inputs, wait, logs, job_name)\u001b[0m\n\u001b[1;32m    297\u001b[0m         \u001b[0mself\u001b[0m\u001b[0;34m.\u001b[0m\u001b[0m_prepare_for_training\u001b[0m\u001b[0;34m(\u001b[0m\u001b[0mjob_name\u001b[0m\u001b[0;34m=\u001b[0m\u001b[0mjob_name\u001b[0m\u001b[0;34m)\u001b[0m\u001b[0;34m\u001b[0m\u001b[0m\n\u001b[1;32m    298\u001b[0m \u001b[0;34m\u001b[0m\u001b[0m\n\u001b[0;32m--> 299\u001b[0;31m         \u001b[0mself\u001b[0m\u001b[0;34m.\u001b[0m\u001b[0mlatest_training_job\u001b[0m \u001b[0;34m=\u001b[0m \u001b[0m_TrainingJob\u001b[0m\u001b[0;34m.\u001b[0m\u001b[0mstart_new\u001b[0m\u001b[0;34m(\u001b[0m\u001b[0mself\u001b[0m\u001b[0;34m,\u001b[0m \u001b[0minputs\u001b[0m\u001b[0;34m)\u001b[0m\u001b[0;34m\u001b[0m\u001b[0m\n\u001b[0m\u001b[1;32m    300\u001b[0m         \u001b[0;32mif\u001b[0m \u001b[0mwait\u001b[0m\u001b[0;34m:\u001b[0m\u001b[0;34m\u001b[0m\u001b[0m\n\u001b[1;32m    301\u001b[0m             \u001b[0mself\u001b[0m\u001b[0;34m.\u001b[0m\u001b[0mlatest_training_job\u001b[0m\u001b[0;34m.\u001b[0m\u001b[0mwait\u001b[0m\u001b[0;34m(\u001b[0m\u001b[0mlogs\u001b[0m\u001b[0;34m=\u001b[0m\u001b[0mlogs\u001b[0m\u001b[0;34m)\u001b[0m\u001b[0;34m\u001b[0m\u001b[0m\n",
      "\u001b[0;32m~/anaconda3/envs/python3/lib/python3.6/site-packages/sagemaker/estimator.py\u001b[0m in \u001b[0;36mstart_new\u001b[0;34m(cls, estimator, inputs)\u001b[0m\n\u001b[1;32m    796\u001b[0m             \u001b[0mtrain_args\u001b[0m\u001b[0;34m[\u001b[0m\u001b[0;34m\"image\"\u001b[0m\u001b[0;34m]\u001b[0m \u001b[0;34m=\u001b[0m \u001b[0mestimator\u001b[0m\u001b[0;34m.\u001b[0m\u001b[0mtrain_image\u001b[0m\u001b[0;34m(\u001b[0m\u001b[0;34m)\u001b[0m\u001b[0;34m\u001b[0m\u001b[0m\n\u001b[1;32m    797\u001b[0m \u001b[0;34m\u001b[0m\u001b[0m\n\u001b[0;32m--> 798\u001b[0;31m         \u001b[0mestimator\u001b[0m\u001b[0;34m.\u001b[0m\u001b[0msagemaker_session\u001b[0m\u001b[0;34m.\u001b[0m\u001b[0mtrain\u001b[0m\u001b[0;34m(\u001b[0m\u001b[0;34m**\u001b[0m\u001b[0mtrain_args\u001b[0m\u001b[0;34m)\u001b[0m\u001b[0;34m\u001b[0m\u001b[0m\n\u001b[0m\u001b[1;32m    799\u001b[0m \u001b[0;34m\u001b[0m\u001b[0m\n\u001b[1;32m    800\u001b[0m         \u001b[0;32mreturn\u001b[0m \u001b[0mcls\u001b[0m\u001b[0;34m(\u001b[0m\u001b[0mestimator\u001b[0m\u001b[0;34m.\u001b[0m\u001b[0msagemaker_session\u001b[0m\u001b[0;34m,\u001b[0m \u001b[0mestimator\u001b[0m\u001b[0;34m.\u001b[0m\u001b[0m_current_job_name\u001b[0m\u001b[0;34m)\u001b[0m\u001b[0;34m\u001b[0m\u001b[0m\n",
      "\u001b[0;32m~/anaconda3/envs/python3/lib/python3.6/site-packages/sagemaker/session.py\u001b[0m in \u001b[0;36mtrain\u001b[0;34m(self, input_mode, input_config, role, job_name, output_config, resource_config, vpc_config, hyperparameters, stop_condition, tags, metric_definitions, enable_network_isolation, image, algorithm_arn, encrypt_inter_container_traffic)\u001b[0m\n\u001b[1;32m    360\u001b[0m         \u001b[0mLOGGER\u001b[0m\u001b[0;34m.\u001b[0m\u001b[0minfo\u001b[0m\u001b[0;34m(\u001b[0m\u001b[0;34m\"Creating training-job with name: %s\"\u001b[0m\u001b[0;34m,\u001b[0m \u001b[0mjob_name\u001b[0m\u001b[0;34m)\u001b[0m\u001b[0;34m\u001b[0m\u001b[0m\n\u001b[1;32m    361\u001b[0m         \u001b[0mLOGGER\u001b[0m\u001b[0;34m.\u001b[0m\u001b[0mdebug\u001b[0m\u001b[0;34m(\u001b[0m\u001b[0;34m\"train request: %s\"\u001b[0m\u001b[0;34m,\u001b[0m \u001b[0mjson\u001b[0m\u001b[0;34m.\u001b[0m\u001b[0mdumps\u001b[0m\u001b[0;34m(\u001b[0m\u001b[0mtrain_request\u001b[0m\u001b[0;34m,\u001b[0m \u001b[0mindent\u001b[0m\u001b[0;34m=\u001b[0m\u001b[0;36m4\u001b[0m\u001b[0;34m)\u001b[0m\u001b[0;34m)\u001b[0m\u001b[0;34m\u001b[0m\u001b[0m\n\u001b[0;32m--> 362\u001b[0;31m         \u001b[0mself\u001b[0m\u001b[0;34m.\u001b[0m\u001b[0msagemaker_client\u001b[0m\u001b[0;34m.\u001b[0m\u001b[0mcreate_training_job\u001b[0m\u001b[0;34m(\u001b[0m\u001b[0;34m**\u001b[0m\u001b[0mtrain_request\u001b[0m\u001b[0;34m)\u001b[0m\u001b[0;34m\u001b[0m\u001b[0m\n\u001b[0m\u001b[1;32m    363\u001b[0m \u001b[0;34m\u001b[0m\u001b[0m\n\u001b[1;32m    364\u001b[0m     def compile_model(\n",
      "\u001b[0;32m~/anaconda3/envs/python3/lib/python3.6/site-packages/botocore/client.py\u001b[0m in \u001b[0;36m_api_call\u001b[0;34m(self, *args, **kwargs)\u001b[0m\n\u001b[1;32m    355\u001b[0m                     \"%s() only accepts keyword arguments.\" % py_operation_name)\n\u001b[1;32m    356\u001b[0m             \u001b[0;31m# The \"self\" in this scope is referring to the BaseClient.\u001b[0m\u001b[0;34m\u001b[0m\u001b[0;34m\u001b[0m\u001b[0m\n\u001b[0;32m--> 357\u001b[0;31m             \u001b[0;32mreturn\u001b[0m \u001b[0mself\u001b[0m\u001b[0;34m.\u001b[0m\u001b[0m_make_api_call\u001b[0m\u001b[0;34m(\u001b[0m\u001b[0moperation_name\u001b[0m\u001b[0;34m,\u001b[0m \u001b[0mkwargs\u001b[0m\u001b[0;34m)\u001b[0m\u001b[0;34m\u001b[0m\u001b[0m\n\u001b[0m\u001b[1;32m    358\u001b[0m \u001b[0;34m\u001b[0m\u001b[0m\n\u001b[1;32m    359\u001b[0m         \u001b[0m_api_call\u001b[0m\u001b[0;34m.\u001b[0m\u001b[0m__name__\u001b[0m \u001b[0;34m=\u001b[0m \u001b[0mstr\u001b[0m\u001b[0;34m(\u001b[0m\u001b[0mpy_operation_name\u001b[0m\u001b[0;34m)\u001b[0m\u001b[0;34m\u001b[0m\u001b[0m\n",
      "\u001b[0;32m~/anaconda3/envs/python3/lib/python3.6/site-packages/botocore/client.py\u001b[0m in \u001b[0;36m_make_api_call\u001b[0;34m(self, operation_name, api_params)\u001b[0m\n\u001b[1;32m    659\u001b[0m             \u001b[0merror_code\u001b[0m \u001b[0;34m=\u001b[0m \u001b[0mparsed_response\u001b[0m\u001b[0;34m.\u001b[0m\u001b[0mget\u001b[0m\u001b[0;34m(\u001b[0m\u001b[0;34m\"Error\"\u001b[0m\u001b[0;34m,\u001b[0m \u001b[0;34m{\u001b[0m\u001b[0;34m}\u001b[0m\u001b[0;34m)\u001b[0m\u001b[0;34m.\u001b[0m\u001b[0mget\u001b[0m\u001b[0;34m(\u001b[0m\u001b[0;34m\"Code\"\u001b[0m\u001b[0;34m)\u001b[0m\u001b[0;34m\u001b[0m\u001b[0m\n\u001b[1;32m    660\u001b[0m             \u001b[0merror_class\u001b[0m \u001b[0;34m=\u001b[0m \u001b[0mself\u001b[0m\u001b[0;34m.\u001b[0m\u001b[0mexceptions\u001b[0m\u001b[0;34m.\u001b[0m\u001b[0mfrom_code\u001b[0m\u001b[0;34m(\u001b[0m\u001b[0merror_code\u001b[0m\u001b[0;34m)\u001b[0m\u001b[0;34m\u001b[0m\u001b[0m\n\u001b[0;32m--> 661\u001b[0;31m             \u001b[0;32mraise\u001b[0m \u001b[0merror_class\u001b[0m\u001b[0;34m(\u001b[0m\u001b[0mparsed_response\u001b[0m\u001b[0;34m,\u001b[0m \u001b[0moperation_name\u001b[0m\u001b[0;34m)\u001b[0m\u001b[0;34m\u001b[0m\u001b[0m\n\u001b[0m\u001b[1;32m    662\u001b[0m         \u001b[0;32melse\u001b[0m\u001b[0;34m:\u001b[0m\u001b[0;34m\u001b[0m\u001b[0m\n\u001b[1;32m    663\u001b[0m             \u001b[0;32mreturn\u001b[0m \u001b[0mparsed_response\u001b[0m\u001b[0;34m\u001b[0m\u001b[0m\n",
      "\u001b[0;31mClientError\u001b[0m: An error occurred (ValidationException) when calling the CreateTrainingJob operation: 1 validation error detected: Value 'ml.t2.medium' at 'resourceConfig.instanceType' failed to satisfy constraint: Member must satisfy enum value set: [ml.p2.xlarge, ml.m5.4xlarge, ml.m4.16xlarge, ml.p3.16xlarge, ml.m5.large, ml.p2.16xlarge, ml.c4.2xlarge, ml.c5.2xlarge, ml.c4.4xlarge, ml.c5.4xlarge, ml.c4.8xlarge, ml.c5.9xlarge, ml.c5.xlarge, ml.c4.xlarge, ml.c5.18xlarge, ml.p3dn.24xlarge, ml.p3.2xlarge, ml.m5.xlarge, ml.m4.10xlarge, ml.m5.12xlarge, ml.m4.xlarge, ml.m5.24xlarge, ml.m4.2xlarge, ml.p2.8xlarge, ml.m5.2xlarge, ml.p3.8xlarge, ml.m4.4xlarge]"
     ]
    }
   ],
   "source": [
    "xgb_model.fit(inputs=data_channels,  logs=True)"
   ]
  },
  {
   "cell_type": "code",
   "execution_count": null,
   "metadata": {},
   "outputs": [],
   "source": [
    "xgb_model.fit(inputs=data_channels,  logs=True)"
   ]
  },
  {
   "cell_type": "code",
   "execution_count": null,
   "metadata": {},
   "outputs": [],
   "source": []
  },
  {
   "cell_type": "code",
   "execution_count": null,
   "metadata": {},
   "outputs": [],
   "source": []
  },
  {
   "cell_type": "code",
   "execution_count": null,
   "metadata": {},
   "outputs": [],
   "source": []
  }
 ],
 "metadata": {
  "kernelspec": {
   "display_name": "conda_python3",
   "language": "python",
   "name": "conda_python3"
  },
  "language_info": {
   "codemirror_mode": {
    "name": "ipython",
    "version": 3
   },
   "file_extension": ".py",
   "mimetype": "text/x-python",
   "name": "python",
   "nbconvert_exporter": "python",
   "pygments_lexer": "ipython3",
   "version": "3.6.5"
  }
 },
 "nbformat": 4,
 "nbformat_minor": 4
}
